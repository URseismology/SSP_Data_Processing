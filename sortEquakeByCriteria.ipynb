{
 "metadata": {
  "name": "",
  "signature": "sha256:679857b324590be14608f22db09b5042f273cc1845d2f0c75ba778bece4b80dc"
 },
 "nbformat": 3,
 "nbformat_minor": 0,
 "worksheets": [
  {
   "cells": [
    {
     "cell_type": "code",
     "collapsed": false,
     "input": [
      "# !!!!!!!!!!!!!!!!!!!!!!!!!!!!!!!!!!!!!!!!!!!!!!!!!!!!!!!!!!!!!!!!!!!!!!!!!!!!!!!!!!!!!!!!!!!!!!!!!\n",
      "# Author: Tolulope Olugboji\n",
      "# Date:  May 2, 2014\n",
      "# !!!!!!!!!!!!!!!!!!!!!!!!!!!!!!!!!!!!!!!!!!!!!!!!!!!!!!!!!!!!!!!!!!!!!!!!!!!!!!!!!!!!!!!!!!!!!!!!!\n",
      "#\n",
      "# Objective:   Scan Manifest list and create a new manifest by geographical criteria:\n",
      "#              1. Common station location ...\n",
      "#              2. Common conversion point [by square patch, parameterize ..]\n",
      "#        \n",
      "#\n",
      "#              3. Extend Obspycrawler to return station locations...\n",
      "#              4. Write module to calculate distance from station locations\n",
      "#\n",
      "#              5. Code creates statistics of common station locations...\n",
      "#\n",
      "#\n",
      "#\n",
      "\n",
      "import obspyWaveFormCrawler as crwl\n",
      "reload(crwl)\n",
      "\n",
      "# - GpA, OceanIslands | GpB,  BoreholeStations | GpC, OceanBottomStations\n",
      "stationMetaDir = \"/Users/tmo22/Documents/OlugbojiPark2013/ParkOlugboji2012/SeismicData/StationMetaData/\"\n",
      "imagesGlobalFileDir = \"/Users/tmo22/Documents/JapaneseProject/Images/StationMaps/AllStationsGlobal.png\"\n",
      "imagesRegionalFileDir = \"/Users/tmo22/Documents/JapaneseProject/Images/StationMaps/StationsNWestPacific.png\"\n",
      "\n",
      "fileOBS = ['OBS2005.txt', 'OBS2006.txt', 'OBS2007.txt']\n",
      "\n",
      "# View Ocean Bottom Stations By Year ...\n",
      "fileOBS = ['OBS2006.txt', 'OBS2007.txt', 'OBS2005.txt']\n",
      "    \n",
      "stationsLoc = crwl.getStationLoc(stationMetaDir, fileOBS)\n",
      "stationsNme = crwl.getStationName(stationMetaDir, fileOBS)\n",
      "\n",
      "report = crwl.sortByLocation(stationsLoc, stationsNme)\n",
      "\n",
      "#print stationsNme\n",
      "#print crwl.getDistance([22.043, 130.87], [22.046, 130.87] )\n"
     ],
     "language": "python",
     "metadata": {},
     "outputs": [
      {
       "ename": "IndexError",
       "evalue": "list index out of range",
       "output_type": "pyerr",
       "traceback": [
        "\u001b[0;31m---------------------------------------------------------------------------\u001b[0m\n\u001b[0;31mIndexError\u001b[0m                                Traceback (most recent call last)",
        "\u001b[0;32m<ipython-input-1-efcb38e5ded8>\u001b[0m in \u001b[0;36m<module>\u001b[0;34m()\u001b[0m\n\u001b[1;32m     30\u001b[0m \u001b[0mfileOBS\u001b[0m \u001b[0;34m=\u001b[0m \u001b[0;34m[\u001b[0m\u001b[0;34m'OBS2006.txt'\u001b[0m\u001b[0;34m,\u001b[0m \u001b[0;34m'OBS2007.txt'\u001b[0m\u001b[0;34m,\u001b[0m \u001b[0;34m'OBS2005.txt'\u001b[0m\u001b[0;34m]\u001b[0m\u001b[0;34m\u001b[0m\u001b[0m\n\u001b[1;32m     31\u001b[0m \u001b[0;34m\u001b[0m\u001b[0m\n\u001b[0;32m---> 32\u001b[0;31m \u001b[0mstationsLoc\u001b[0m \u001b[0;34m=\u001b[0m \u001b[0mcrwl\u001b[0m\u001b[0;34m.\u001b[0m\u001b[0mgetStationLoc\u001b[0m\u001b[0;34m(\u001b[0m\u001b[0mstationMetaDir\u001b[0m\u001b[0;34m,\u001b[0m \u001b[0mfileOBS\u001b[0m\u001b[0;34m)\u001b[0m\u001b[0;34m\u001b[0m\u001b[0m\n\u001b[0m\u001b[1;32m     33\u001b[0m \u001b[0mstationsNme\u001b[0m \u001b[0;34m=\u001b[0m \u001b[0mcrwl\u001b[0m\u001b[0;34m.\u001b[0m\u001b[0mgetStationName\u001b[0m\u001b[0;34m(\u001b[0m\u001b[0mstationMetaDir\u001b[0m\u001b[0;34m,\u001b[0m \u001b[0mfileOBS\u001b[0m\u001b[0;34m)\u001b[0m\u001b[0;34m\u001b[0m\u001b[0m\n\u001b[1;32m     34\u001b[0m \u001b[0;34m\u001b[0m\u001b[0m\n",
        "\u001b[0;32m/Users/tmo22/Documents/JapaneseProject/DataScripts/obspyWaveFormCrawler.pyc\u001b[0m in \u001b[0;36mgetStationLoc\u001b[0;34m(stationMetaDir, stationLocList)\u001b[0m\n\u001b[1;32m    169\u001b[0m         \u001b[0;32mfor\u001b[0m \u001b[0mline\u001b[0m \u001b[0;32min\u001b[0m \u001b[0meventTable\u001b[0m\u001b[0;34m:\u001b[0m\u001b[0;34m\u001b[0m\u001b[0m\n\u001b[1;32m    170\u001b[0m             \u001b[0mcols\u001b[0m \u001b[0;34m=\u001b[0m \u001b[0mline\u001b[0m\u001b[0;34m.\u001b[0m\u001b[0msplit\u001b[0m\u001b[0;34m(\u001b[0m\u001b[0;34m)\u001b[0m\u001b[0;34m\u001b[0m\u001b[0m\n\u001b[0;32m--> 171\u001b[0;31m             \u001b[0mstCords\u001b[0m\u001b[0;34m.\u001b[0m\u001b[0mappend\u001b[0m\u001b[0;34m(\u001b[0m \u001b[0;34m[\u001b[0m\u001b[0mfloat\u001b[0m\u001b[0;34m(\u001b[0m\u001b[0mcols\u001b[0m\u001b[0;34m[\u001b[0m\u001b[0;36m2\u001b[0m\u001b[0;34m]\u001b[0m\u001b[0;34m)\u001b[0m\u001b[0;34m,\u001b[0m \u001b[0mfloat\u001b[0m\u001b[0;34m(\u001b[0m\u001b[0mcols\u001b[0m\u001b[0;34m[\u001b[0m\u001b[0;36m3\u001b[0m\u001b[0;34m]\u001b[0m\u001b[0;34m)\u001b[0m\u001b[0;34m,\u001b[0m \u001b[0mfloat\u001b[0m\u001b[0;34m(\u001b[0m\u001b[0mcols\u001b[0m\u001b[0;34m[\u001b[0m\u001b[0;36m5\u001b[0m\u001b[0;34m]\u001b[0m\u001b[0;34m)\u001b[0m\u001b[0;34m]\u001b[0m \u001b[0;34m)\u001b[0m\u001b[0;34m\u001b[0m\u001b[0m\n\u001b[0m\u001b[1;32m    172\u001b[0m \u001b[0;34m\u001b[0m\u001b[0m\n\u001b[1;32m    173\u001b[0m         \u001b[0;32mprint\u001b[0m \u001b[0;34m\"Project: \"\u001b[0m\u001b[0;34m,\u001b[0m \u001b[0mproject\u001b[0m \u001b[0;34m,\u001b[0m\u001b[0;34m\"No Stations: \"\u001b[0m\u001b[0;34m,\u001b[0m \u001b[0mlen\u001b[0m\u001b[0;34m(\u001b[0m\u001b[0mstCords\u001b[0m\u001b[0;34m)\u001b[0m\u001b[0;34m\u001b[0m\u001b[0m\n",
        "\u001b[0;31mIndexError\u001b[0m: list index out of range"
       ]
      }
     ],
     "prompt_number": 1
    },
    {
     "cell_type": "code",
     "collapsed": false,
     "input": [
      "from obspy.core.util.geodetics import gps2DistAzimuth\n",
      "\n",
      "gps2DistAzimuth?"
     ],
     "language": "python",
     "metadata": {},
     "outputs": []
    },
    {
     "cell_type": "code",
     "collapsed": false,
     "input": [],
     "language": "python",
     "metadata": {},
     "outputs": []
    }
   ],
   "metadata": {}
  }
 ]
}