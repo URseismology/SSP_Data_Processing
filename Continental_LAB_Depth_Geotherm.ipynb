{
 "metadata": {
  "name": "",
  "signature": "sha256:b86f55d88f0394676d49827abea4845cd1d42b37ca0d2908bfcd75fa31167629"
 },
 "nbformat": 3,
 "nbformat_minor": 0,
 "worksheets": [
  {
   "cells": [
    {
     "cell_type": "code",
     "collapsed": false,
     "input": [
      "#!/Library/Frameworks/Python.framework/Versions/Current/bin/python\n",
      "#\n",
      "#    @Author Tolulope Olugboji\n",
      "#    Name: Continental_LAB_Depth_Geotherm\n",
      "#\n",
      "#\n",
      "# I use this code to cross_reference my compilation of continental LAB depths with \n",
      "# Geotherm from Artimieva data or modelling results. Code does the following\n",
      "#\t\t\t\t\t\t1. Pulls lon-lat information from IRIS station\n",
      "#\t\t\t\t\t\t2. Cross references with Artimieva\n",
      "#\t\t\t\t\t\t3. Uses Artimieva to get actual temperature data...\n",
      "#\n",
      "from obspy.core.util.geodetics import gps2DistAzimuth\n",
      "from obspy import UTCDateTime\n",
      "from obspy import read\n",
      "import obspy.signal\n",
      "import time, sys, os\n",
      "from IPython.display import display, clear_output\n",
      "from obspy.taup.taup import getTravelTimes\n",
      "\n",
      "import matplotlib as mpl\n",
      "mpl.rcParams['font.size'] = 15\n",
      "\n",
      "# compute artemieva using 3 parameter fit\n",
      "def computeArtemievaParams3(Tz0, Tz1, dTz):\n",
      "    params = [0, 0, 0]\n",
      "    T0 = Tz0[0]\n",
      "    z0 = Tz0[1]\n",
      "    \n",
      "    T1 = Tz1[0]\n",
      "    z1 = Tz1[1]\n",
      "    \n",
      "    dT3 = dTz[0]\n",
      "    z3 = dTz[1]\n",
      "    \n",
      "    params[2] = ( (T1 - T0) - dT3*(z1-z0) ) / ( (z1**2 - z0**2) - (2*z0)*(z1 - z0) )\n",
      "    params[1] = dT3 - (2*z0*params[2])\n",
      "    params[0] = T0 - params[1]*z0 - params[2]*z0**2\n",
      "    \n",
      "    return params\n",
      "\n",
      "# compute artemieva using 4 parameter fit\n",
      "def computeArtemievaParams4(Tz0, Tz1, Tz3, dTz):\n",
      "    #params = [0, 0, 0, 0]\n",
      "    \n",
      "    B = np.array( [Tz0[0], Tz1[0], Tz3[0], dTz[0]] )\n",
      "    A = np.array([[1, Tz0[1], Tz0[1]**2, Tz0[1]**3], \\\n",
      "                  [1, Tz1[1], Tz1[1]**2, Tz1[1]**3], \\\n",
      "                  [1, Tz3[1], Tz3[1]**2, Tz3[1]**3], \\\n",
      "                  [0, 1, 2*dTz[1], 3*dTz[1]] ])\n",
      "    \n",
      "    params = np.linalg.solve(A,B)\n",
      "    return params\n",
      "\n",
      "def geotherm3(depthZ, params):\n",
      "    # polynomial function of power 2\n",
      "    a0 = params[0]\n",
      "    a1 = params[1]\n",
      "    a2 = params[2]\n",
      "    \n",
      "    Tz = a0 + (a1*depthZ) + (a2*depthZ**2) \n",
      "    return Tz\n",
      "\n",
      "def geotherm4(depthZ, params):\n",
      "    # polynomial function of power 2\n",
      "    a0 = params[0]\n",
      "    a1 = params[1]\n",
      "    a2 = params[2]\n",
      "    a3 = params[3]\n",
      "    \n",
      "    Tz = a0 + (a1*depthZ) + (a2*depthZ**2) + (a3*depthZ**3) \n",
      "    return Tz\n",
      "\n",
      "def findAge(lon, lat):\n",
      "    tolA = 50; # minimum distance in km a little larger than half a degree\n",
      "    tolB = 70;\n",
      "    tempMin = 100\n",
      "    tempCols = ''\n",
      "    \n",
      "    inAge = '/Users/tmo22/Google Drive/OlugbojiKaratoSelwayPark2013/IrinaThermal/global-ages-0705-1x1.xyz.txt'\n",
      "    AgeFile = open(inAge, 'r'); \n",
      "    AgeTable = AgeFile.readlines()\n",
      "    \n",
      "    flagFirst = True\n",
      "    \n",
      "    for AgeTemp in AgeTable[1:len(AgeTable)]:\n",
      "        columns = AgeTemp.split(\"\\t\")\n",
      "                \n",
      "        tempLon = float( columns[0] )\n",
      "        tempLat = float( columns[1] )\n",
      "        age = float( columns[2] )\n",
      "        \n",
      "        #print \"Pos. File\" , tempLon, tempLat, \"Pos. Station:\", lon, lat\n",
      "        dist, az, baz = gps2DistAzimuth( float( lat) , float( lon ), tempLat, tempLon )\n",
      "        #print \"Pos. File\" , tempLon, tempLat, \"Pos. Station:\", lon, lat, \"Distance: \", dist\n",
      "        distKm = dist/1000\n",
      "        \n",
      "        if (flagFirst):\n",
      "            tempMin = distKm\n",
      "            tempCols = columns\n",
      "            flagFirst = False\n",
      "        \n",
      "        try:\n",
      "              \n",
      "            if (distKm <  tempMin):\n",
      "                tempMin = distKm\n",
      "                tempCols = columns\n",
      "                \n",
      "            if (distKm < tolA or distKm < tolB ):\n",
      "                print \"Found!!\"\n",
      "                print \"Dist: \", distKm, \"Other Data\", columns, \"AGE: \", age\n",
      "                return age\n",
      "                break\n",
      "                \n",
      "        except ValueError:\n",
      "            print \"something went wrong!\"\n",
      "            break\n",
      "    \n",
      "    if (tempMin > tolA or tempMin > tolB):\n",
      "        print  \"Not Found! Smallest: \", tempMin, \"Other Data\", tempCols\n",
      "    \n",
      "    return tempMin\n",
      "\n",
      "    \n",
      "    \n",
      "def findTemp(lon, lat, labZ):\n",
      "    \n",
      "    tolA = 50; # minimum distance in km a little larger than half a degree\n",
      "    tolB = 70;\n",
      "    tempMin = 100\n",
      "    tempCols = ''\n",
      "    \n",
      "    inGeotherm = '/Users/tmo22/Google Drive/OlugbojiKaratoSelwayPark2013/IrinaThermal/TC1-thermal-0606-1x1.dat'\n",
      "    GeothermFile = open(inGeotherm, 'r'); \n",
      "    GeothermTable = GeothermFile.readlines()\n",
      "    \n",
      "    flagFirst = True\n",
      "    \n",
      "    for locTemp in GeothermTable[1:len(GeothermTable)]:\n",
      "        columns = locTemp.split(\",\")\n",
      "                \n",
      "        tempLon = float( columns[0] )\n",
      "        tempLat = float( columns[1] )\n",
      "        z1300 = float( columns[2] )\n",
      "        temp50km = float ( columns[3] )\n",
      "        dTdz = float ( columns[4] )\n",
      "        z550 = float ( columns[5] )\n",
      "        \n",
      "        Tz50 = [temp50km, 50]\n",
      "        Tz550 = [z550, 550]\n",
      "        Tz1300 = [1300, z1300]\n",
      "        dTdz50 = [dTdz, 50]\n",
      "        \n",
      "        #print \"Pos. File\" , tempLon, tempLat, \"Pos. Station:\", lon, lat\n",
      "        dist, az, baz = gps2DistAzimuth( float( lat) , float( lon ), tempLat, tempLon )\n",
      "        #print \"Pos. File\" , tempLon, tempLat, \"Pos. Station:\", lon, lat, \"Distance: \", dist\n",
      "        distKm = dist/1000\n",
      "        \n",
      "        if (flagFirst):\n",
      "            tempMin = distKm\n",
      "            tempCols = columns\n",
      "            flagFirst = False\n",
      "        \n",
      "        try:\n",
      "            LABZ = float( labZ )    \n",
      "        \n",
      "            \n",
      "            if (distKm <  tempMin):\n",
      "                tempMin = distKm\n",
      "                tempCols = columns\n",
      "                \n",
      "            if (distKm < tolA or distKm < tolB ):\n",
      "                print \"Found!!\"\n",
      "                print \"Dist: \", distKm, \"Other Data\", columns\n",
      "                \n",
      "                if (LABZ <= z1300):\n",
      "                    params4 = computeArtemievaParams4(Tz50, Tz550, Tz1300, dTdz50)\n",
      "                    TLab = geotherm4(LABZ, params4)\n",
      "                else:\n",
      "                    TLab = 1300 + 0.4 * (LABZ - z1300)\n",
      "                \n",
      "                #TLab =  temp50km + dTdZ* (LABZ - 50)\n",
      "                \n",
      "                print \"LAB depth: \", LABZ, \"Temp: \", TLab\n",
      "                return LABZ, TLab\n",
      "                break\n",
      "                \n",
      "        except ValueError:\n",
      "            print \"Not a float\", labZ\n",
      "            break\n",
      "    \n",
      "    if (tempMin > tolA or tempMin > tolB):\n",
      "        print  \"Not Found! Smallest: \", tempMin, \"Other Data\", tempCols\n",
      "    \n",
      "    return tempMin, tempMin\n",
      "\n",
      "    \n",
      "\n",
      "def parseLABFile(fName, bypassStationScan):\n",
      "    # read the ntwrkName, statName, LABDepth, LABFlag fields in file ..\n",
      "    LABFile = open(fName, 'r'); \n",
      "    LABOutFile = open(fName+'Temp.txt', 'w');\n",
      "    \n",
      "    LABTable = LABFile.readlines()\n",
      "    \n",
      "    \n",
      "        \n",
      "    for line in LABTable[1:len(LABTable)]:\n",
      "        #clear_output()\n",
      "        columns = line.split(\"\\t\")\n",
      "        \n",
      "        networkName = columns[0]\n",
      "        stationName =  columns[1]\n",
      "        LABdepth = columns[2]\n",
      "        errorDepth = columns[3]\n",
      "        LABtype = columns[4].rstrip()\n",
      "        \n",
      "        #print networkName, stationName, LABdepth, errorDepth, LABtype\n",
      "        \n",
      "        # Hack for Africa - Use Local Data Tables...\n",
      "        if ( bypassStationScan == 1):\n",
      "            lon = columns[5]\n",
      "            lat = columns[6].rstrip()\n",
      "            LABtype = columns[4]\n",
      "            statNet = 'AF.Line.Sudoudi'\n",
      "            print \"Reading ...\", statNet, lon, lat, LABdepth\n",
      "        else:\n",
      "            queryStatCords = !find_stations -s $stationName -n $networkName\n",
      "            columns = queryStatCords[0].split(\" \")\n",
      "            lon = columns[0]\n",
      "            lat = columns[2]\n",
      "            statNet = columns[4]\n",
      "            \n",
      "            print columns\n",
      "            print \"Reading ...\", statNet, lon, lat, LABdepth\n",
      "        \n",
      "        try:\n",
      "            if float(lon) > -120 :\n",
      "                age = findAge(lon, lat)\n",
      "        except ValueError:\n",
      "            print \"Can't decipher basement age at this station location\"\n",
      "            #break\n",
      "        \n",
      "        \n",
      "        try:\n",
      "            if float(lon) > -120 and age > 540 :\n",
      "                tmp, TLAB = findTemp(lon, lat, LABdepth)\n",
      "                LABOutFile.write(statNet + '\\t' + LABtype + '\\t' + str(lon) + '\\t' + str(lat) + '\\t' + str(LABdepth)+ '\\t' + str(TLAB) + '\\n') \n",
      "        except ValueError:\n",
      "            print \"Can't read\"\n",
      "            #break\n",
      "        \n",
      "        \n",
      "        \n",
      "    #return queryStatCords[0]\n",
      "    LABOutFile.close()\n",
      "    LABFile.close()     \n",
      "        \n",
      "\n",
      "####################  WORK FLOW HERE  ################################\n",
      "\n",
      "inLABFileDir = '/Users/tmo22/Google Drive/OlugbojiKaratoSelwayPark2013/LABDataBase/'\n",
      "\n",
      "ignoreScan = 0\n",
      "val = parseLABFile(inLABFileDir+'LABNAmerica.txt', ignoreScan)\n",
      "\n",
      "# Do single search ..\n",
      "#print findTemp(143.1757, -13.9563, 67)"
     ],
     "language": "python",
     "metadata": {},
     "outputs": [
      {
       "output_type": "stream",
       "stream": "stdout",
       "text": [
        "['-120.3865', '', '38.0345', '697.', 'BK.CMB']\n",
        "Reading ... BK.CMB -120.3865 38.0345 78\n"
       ]
      },
      {
       "output_type": "stream",
       "stream": "stdout",
       "text": [
        "['-122.2387', '', '37.4037', '70.', 'BK.JRSC']\n",
        "Reading ... BK.JRSC -122.2387 37.4037 \u2010\n"
       ]
      },
      {
       "output_type": "stream",
       "stream": "stdout",
       "text": [
        "['-121.5004', '', '39.5545', '335.', 'BK.ORV']\n",
        "Reading ... BK.ORV -121.5004 39.5545 78\n"
       ]
      },
      {
       "output_type": "stream",
       "stream": "stdout",
       "text": [
        "['-120.5416', '', '35.9452', '583.', 'BK.PKD']\n",
        "Reading ... BK.PKD -120.5416 35.9452 79\n"
       ]
      },
      {
       "output_type": "stream",
       "stream": "stdout",
       "text": [
        "['-122.5411', '', '40.5799', '268.', 'BK.WDC']\n",
        "Reading ... BK.WDC -122.5411 40.5799 70\n"
       ]
      },
      {
       "output_type": "stream",
       "stream": "stdout",
       "text": [
        "['-122.7104', '', '41.7320', '1060.', 'BK.YBH']\n",
        "Reading ... BK.YBH -122.7104 41.7320 59\n"
       ]
      },
      {
       "output_type": "stream",
       "stream": "stdout",
       "text": [
        "['-118.0802', '', '36.4399', '1595.', 'CI.CWC']\n",
        "Reading ... CI.CWC -118.0802 36.4399 \u2010\n",
        "Found!!"
       ]
      },
      {
       "output_type": "stream",
       "stream": "stdout",
       "text": [
        "\n",
        "Dist:  49.3424123097 Other Data ['-118', '36', '30\\n'] AGE:  30.0\n"
       ]
      },
      {
       "output_type": "stream",
       "stream": "stdout",
       "text": [
        "['-117.0095', '', '33.6500', '650.', 'CI.DGR']\n",
        "Reading ... CI.DGR -117.0095 33.6500 67\n",
        "Found!!"
       ]
      },
      {
       "output_type": "stream",
       "stream": "stdout",
       "text": [
        "\n",
        "Dist:  38.831690654 Other Data ['-117', '34', '30\\n'] AGE:  30.0\n"
       ]
      },
      {
       "output_type": "stream",
       "stream": "stdout",
       "text": [
        "['-116.8057', '', '35.3018', '1000.', 'CI.GSC']\n",
        "Reading ... CI.GSC -116.8057 35.3018 61\n",
        "Found!!"
       ]
      },
      {
       "output_type": "stream",
       "stream": "stdout",
       "text": [
        "\n",
        "Dist:  37.8753819056 Other Data ['-117', '35', '30\\n'] AGE:  30.0\n"
       ]
      },
      {
       "output_type": "stream",
       "stream": "stdout",
       "text": [
        "['-118.1712', '', '34.1484', '314.', 'CI.PAS']\n",
        "Reading ... CI.PAS -118.1712 34.1484 70\n",
        "Found!!"
       ]
      },
      {
       "output_type": "stream",
       "stream": "stdout",
       "text": [
        "\n",
        "Dist:  22.8185478727 Other Data ['-118', '34', '30\\n'] AGE:  30.0\n"
       ]
      },
      {
       "output_type": "stream",
       "stream": "stdout",
       "text": [
        "['-118.4041', '', '33.7435', '107.', 'CI.RPV']\n",
        "Reading ... CI.RPV -118.4041 33.7435 65\n",
        "Found!!"
       ]
      },
      {
       "output_type": "stream",
       "stream": "stdout",
       "text": [
        "\n",
        "Dist:  62.0425095122 Other Data ['-119', '34', '30\\n'] AGE:  30.0\n"
       ]
      },
      {
       "output_type": "stream",
       "stream": "stdout",
       "text": [
        "['-117.0982', '', '34.1065', '605.', 'CI.SVD']\n",
        "Reading ... CI.SVD -117.0982 34.1065 79\n",
        "Found!!"
       ]
      },
      {
       "output_type": "stream",
       "stream": "stdout",
       "text": [
        "\n",
        "Dist:  14.8914963746 Other Data ['-117', '34', '30\\n'] AGE:  30.0\n"
       ]
      },
      {
       "output_type": "stream",
       "stream": "stdout",
       "text": [
        "['-118.8204', '', '34.1561', '298.', 'CI.TOV']\n",
        "Reading ... CI.TOV -118.8204 34.1561 75\n",
        "Found!!"
       ]
      },
      {
       "output_type": "stream",
       "stream": "stdout",
       "text": [
        "\n",
        "Dist:  23.971162724 Other Data ['-119', '34', '30\\n'] AGE:  30.0\n"
       ]
      },
      {
       "output_type": "stream",
       "stream": "stdout",
       "text": [
        "['-118.2863', '', '34.0192', '58.', 'CI.USC']\n",
        "Reading ... CI.USC -118.2863 34.0192 58\n",
        "Found!!"
       ]
      },
      {
       "output_type": "stream",
       "stream": "stdout",
       "text": [
        "\n",
        "Dist:  65.9618595794 Other Data ['-119', '34', '30\\n'] AGE:  30.0\n"
       ]
      },
      {
       "output_type": "stream",
       "stream": "stdout",
       "text": [
        "['-117.3296', '', '34.5606', '843.', 'CI.VTV']\n",
        "Reading ... CI.VTV -117.3296 34.5606 68\n",
        "Found!!"
       ]
      },
      {
       "output_type": "stream",
       "stream": "stdout",
       "text": [
        "\n",
        "Dist:  69.1966264079 Other Data ['-117', '34', '30\\n'] AGE:  30.0\n"
       ]
      },
      {
       "output_type": "stream",
       "stream": "stdout",
       "text": [
        "['-79.1417', '', '44.7694', '243.', 'CN.SADO']\n",
        "Reading ... CN.SADO -79.1417 44.7694 90\n",
        "Found!!"
       ]
      },
      {
       "output_type": "stream",
       "stream": "stdout",
       "text": [
        "\n",
        "Dist:  27.9650278766 Other Data ['-79', '45', '1200\\n'] AGE:  1200.0\n",
        "Found!!"
       ]
      },
      {
       "output_type": "stream",
       "stream": "stdout",
       "text": [
        "\n",
        "Dist:  27.9650278766 Other Data ['-79', '45', '173', '592', '5.76094481334423', '47', '\"8grenville\"\\r\\n']\n",
        "LAB depth: "
       ]
      },
      {
       "output_type": "stream",
       "stream": "stdout",
       "text": [
        " 90.0 Temp:  819.675109602\n"
       ]
      },
      {
       "output_type": "stream",
       "stream": "stdout",
       "text": [
        "['-95.8750', '', '50.2503', '251.', 'CN.ULM']\n",
        "Reading ... CN.ULM -95.8750 50.2503 101\n",
        "Found!!"
       ]
      },
      {
       "output_type": "stream",
       "stream": "stdout",
       "text": [
        "\n",
        "Dist:  29.2409628518 Other Data ['-96', '50', '2700\\n'] AGE:  2700.0\n",
        "Found!!"
       ]
      },
      {
       "output_type": "stream",
       "stream": "stdout",
       "text": [
        "\n",
        "Dist:  29.2409628518 Other Data ['-96', '50', '195', '548', '5.17399690316307', '51', '\"8superior\"\\r\\n']\n",
        "LAB depth:  101.0 Temp:  812.150789127\n"
       ]
      },
      {
       "output_type": "stream",
       "stream": "stdout",
       "text": [
        "['-121.8123', '', '37.1526', '518.', 'CT.FERN']\n",
        "Reading ... CT.FERN -121.8123 37.1526 66\n"
       ]
      },
      {
       "output_type": "stream",
       "stream": "stdout",
       "text": [
        "['-121.4956', '', '37.3889', '600.', 'CT.SAVY']\n",
        "Reading ... CT.SAVY -121.4956 37.3889 \u2010\n"
       ]
      },
      {
       "output_type": "stream",
       "stream": "stdout",
       "text": [
        "['-121.4048', '', '36.5980', '261.', 'G.SCZ']\n",
        "Reading ... G.SCZ -121.4048 36.5980 70\n"
       ]
      },
      {
       "output_type": "stream",
       "stream": "stdout",
       "text": [
        "['-118.1554', '', '38.4328', '1509.', 'IM.NV31']\n",
        "Reading ... IM.NV31 -118.1554 38.4328 102\n",
        "Found!!"
       ]
      },
      {
       "output_type": "stream",
       "stream": "stdout",
       "text": [
        "\n",
        "Dist:  64.3990683694 Other Data ['-118', '39', '30\\n'] AGE:  30.0\n"
       ]
      },
      {
       "output_type": "stream",
       "stream": "stdout",
       "text": [
        "['-109.5581', '', '42.7672', '2219.', 'IM.PD31']\n",
        "Reading ... IM.PD31 -109.5581 42.7672 \u2010\n",
        "Found!!"
       ]
      },
      {
       "output_type": "stream",
       "stream": "stdout",
       "text": [
        "\n",
        "Dist:  44.4083457591 Other Data ['-110', '43', '3400\\n'] AGE:  3400.0\n",
        "Not a float"
       ]
      },
      {
       "output_type": "stream",
       "stream": "stdout",
       "text": [
        " \u2010\n",
        "Not Found! Smallest:  14291.6461018 Other Data ['-180', '-80', '95', '862', '9.74186904479839', '32', '3\\r\\n']\n"
       ]
      },
      {
       "output_type": "stream",
       "stream": "stdout",
       "text": [
        "['-103.6678', '', '29.3342', '1025.', 'IM.TX31']\n",
        "Reading ... IM.TX31 -103.6678 29.3342 83\n",
        "Found!!"
       ]
      },
      {
       "output_type": "stream",
       "stream": "stdout",
       "text": [
        "\n",
        "Dist:  49.1580087865 Other Data ['-104', '29', '30\\n'] AGE:  30.0\n"
       ]
      },
      {
       "output_type": "stream",
       "stream": "stdout",
       "text": [
        "['-103.6670', '', '29.3338', '1013.', 'IM.TX32']\n",
        "Reading ... IM.TX32 -103.6670 29.3338 80\n",
        "Found!!"
       ]
      },
      {
       "output_type": "stream",
       "stream": "stdout",
       "text": [
        "\n",
        "Dist:  49.175882505 Other Data ['-104', '29', '30\\n'] AGE:  30.0\n"
       ]
      },
      {
       "output_type": "stream",
       "stream": "stdout",
       "text": [
        "['-91.2446', '', '38.0557', '222.', 'IU.CCM']\n",
        "Reading ... IU.CCM -91.2446 38.0557 88\n",
        "Found!!"
       ]
      },
      {
       "output_type": "stream",
       "stream": "stdout",
       "text": [
        "\n",
        "Dist:  66.6108902717 Other Data ['-92', '38', '1600\\n'] AGE:  1600.0\n",
        "Found!!"
       ]
      },
      {
       "output_type": "stream",
       "stream": "stdout",
       "text": [
        "\n",
        "Dist:  66.6108902717 Other Data ['-92', '38', '140', '675', '6.94035386639352', '41', '\"8centralS\"\\r\\n']\n",
        "LAB depth:  88.0 Temp:  934.658247612\n"
       ]
      },
      {
       "output_type": "stream",
       "stream": "stdout",
       "text": [
        "['-81.4327', '', '28.1103', '30.', 'IU.DWPF']\n",
        "Reading ... IU.DWPF -81.4327 28.1103 \u2010\n",
        "Found!!"
       ]
      },
      {
       "output_type": "stream",
       "stream": "stdout",
       "text": [
        "\n",
        "Dist:  44.2608062886 Other Data ['-81', '28', '385\\n'] AGE:  385.0\n"
       ]
      },
      {
       "output_type": "stream",
       "stream": "stdout",
       "text": [
        "['-95.8384', '', '29.9618', '-413.', 'IU.HKT']\n",
        "Reading ... IU.HKT -95.8384 29.9618 76\n",
        "Found!!"
       ]
      },
      {
       "output_type": "stream",
       "stream": "stdout",
       "text": [
        "\n",
        "Dist:  16.1598460637 Other Data ['-96', '30', '385\\n'] AGE:  385.0\n"
       ]
      },
      {
       "output_type": "stream",
       "stream": "stdout",
       "text": [
        "['-71.5583', '', '42.5064', '200.', 'IU.HRV']\n",
        "Reading ... IU.HRV -71.5583 42.5064 111\n",
        "Found!!"
       ]
      },
      {
       "output_type": "stream",
       "stream": "stdout",
       "text": [
        "\n",
        "Dist:  67.0269636498 Other Data ['-72', '42', '385\\n'] AGE:  385.0\n"
       ]
      },
      {
       "output_type": "stream",
       "stream": "stdout",
       "text": [
        "['-77.8876', '', '40.6358', '270.', 'IU.SSPA']\n",
        "Reading ... IU.SSPA -77.8876 40.6358 109\n",
        "Found!!"
       ]
      },
      {
       "output_type": "stream",
       "stream": "stdout",
       "text": [
        "\n",
        "Dist:  41.5413505846 Other Data ['-78', '41', '385\\n'] AGE:  385.0\n"
       ]
      },
      {
       "output_type": "stream",
       "stream": "stdout",
       "text": [
        "['-110.7847', '', '32.3098', '910.', 'IU.TUC']\n",
        "Reading ... IU.TUC -110.7847 32.3098 80\n",
        "Found!!"
       ]
      },
      {
       "output_type": "stream",
       "stream": "stdout",
       "text": [
        "\n",
        "Dist:  39.9082169123 Other Data ['-111', '32', '1600\\n'] AGE:  1600.0\n",
        "Found!!"
       ]
      },
      {
       "output_type": "stream",
       "stream": "stdout",
       "text": [
        "\n",
        "Dist:  39.9082169123 Other Data ['-111', '32', '123', '745', '8.45299509368442', '37', '\"8centralS\"\\r\\n']\n",
        "LAB depth:  80.0 Temp:  985.943902632\n"
       ]
      },
      {
       "output_type": "stream",
       "stream": "stdout",
       "text": [
        "['-86.2939', '', '38.2289', '210.', 'IU.WCI']\n",
        "Reading ... IU.WCI -86.2939 38.2289 97\n",
        "Found!!"
       ]
      },
      {
       "output_type": "stream",
       "stream": "stdout",
       "text": [
        "\n",
        "Dist:  36.1915846264 Other Data ['-86', '38', '1500\\n'] AGE:  1500.0\n",
        "Found!!"
       ]
      },
      {
       "output_type": "stream",
       "stream": "stdout",
       "text": [
        "\n",
        "Dist:  66.9316487571 Other Data ['-87', '38', '139', '677', '7.01418741816367', '41', '\"8grenville\"\\r\\n']\n",
        "LAB depth:  97.0 Temp:  1002.95457813\n"
       ]
      },
      {
       "output_type": "stream",
       "stream": "stdout",
       "text": [
        "['-87.8300', '', '36.1297', '170.', 'IU.WVT']\n",
        "Reading ... IU.WVT -87.8300 36.1297 113\n",
        "Found!!"
       ]
      },
      {
       "output_type": "stream",
       "stream": "stdout",
       "text": [
        "\n",
        "Dist:  21.0160292854 Other Data ['-88', '36', '1500\\n'] AGE:  1500.0\n",
        "Found!!"
       ]
      },
      {
       "output_type": "stream",
       "stream": "stdout",
       "text": [
        "\n",
        "Dist:  21.0160292854 Other Data ['-88', '36', '136', '687', '7.24542436601521', '41', '\"8central\"\\r\\n']\n",
        "LAB depth:  113.0 Temp:  1136.54840959\n"
       ]
      },
      {
       "output_type": "stream",
       "stream": "stdout",
       "text": [
        "['-117.2210', '', '40.4314', '1594.', 'LB.BMN']\n",
        "Reading ... LB.BMN -117.2210 40.4314 51\n",
        "Found!!"
       ]
      },
      {
       "output_type": "stream",
       "stream": "stdout",
       "text": [
        "\n",
        "Dist:  65.845427891 Other Data ['-117', '41', '30\\n'] AGE:  30.0\n"
       ]
      },
      {
       "output_type": "stream",
       "stream": "stdout",
       "text": [
        "['-117.5937', '', '36.2770', '1813.', 'LB.DAC']\n",
        "Reading ... LB.DAC -117.5937 36.2770 \u2010\n",
        "Found!!"
       ]
      },
      {
       "output_type": "stream",
       "stream": "stdout",
       "text": [
        "\n",
        "Dist:  47.7706155023 Other Data ['-118', '36', '30\\n'] AGE:  30.0\n"
       ]
      },
      {
       "output_type": "stream",
       "stream": "stdout",
       "text": [
        "['-112.2123', '', '38.5037', '2239.', 'LB.MVU']\n",
        "Reading ... LB.MVU -112.2123 38.5037 \u2010\n",
        "Found!!"
       ]
      },
      {
       "output_type": "stream",
       "stream": "stdout",
       "text": [
        "\n",
        "Dist:  58.9185341321 Other Data ['-112', '38', '1800\\n'] AGE:  1800.0\n",
        "Not a float \u2010\n",
        "Not Found! Smallest:  13782.5915389 Other Data ['-180', '-80', '95', '862', '9.74186904479839', '32', '3\\r\\n']\n"
       ]
      },
      {
       "output_type": "stream",
       "stream": "stdout",
       "text": [
        "['-117.2225', '', '38.0750', '1883.', 'LB.TPH']\n",
        "Reading ... LB.TPH -117.2225 38.0750 83\n",
        "Found!!"
       ]
      },
      {
       "output_type": "stream",
       "stream": "stdout",
       "text": [
        "\n",
        "Dist:  21.2327755066 Other Data ['-117', '38', '30\\n'] AGE:  30.0\n"
       ]
      },
      {
       "output_type": "stream",
       "stream": "stdout",
       "text": [
        "['-73.6678', '', '43.3843', '340.', 'LD.ACCN']\n",
        "Reading ... LD.ACCN -73.6678 43.3843 73\n",
        "Found!!"
       ]
      },
      {
       "output_type": "stream",
       "stream": "stdout",
       "text": [
        "\n",
        "Dist:  50.5171233431 Other Data ['-74', '43', '385\\n'] AGE:  385.0\n"
       ]
      },
      {
       "output_type": "stream",
       "stream": "stdout",
       "text": [
        "['-74.5660', '', '40.6828', '50.', 'LD.BRNJ']\n",
        "Reading ... LD.BRNJ -74.5660 40.6828 89\n",
        "Found!!"
       ]
      },
      {
       "output_type": "stream",
       "stream": "stdout",
       "text": [
        "\n",
        "Dist:  50.7988236969 Other Data ['-75', '41', '385\\n'] AGE:  385.0\n"
       ]
      },
      {
       "output_type": "stream",
       "stream": "stdout",
       "text": [
        "['-74.5828', '', '44.6198', '440.', 'LD.LOZ']\n",
        "Reading ... LD.LOZ -74.5828 44.6198 \u2010\n",
        "Found!!"
       ]
      },
      {
       "output_type": "stream",
       "stream": "stdout",
       "text": [
        "\n",
        "Dist:  53.612963636 Other Data ['-75', '45', '385\\n'] AGE:  385.0\n"
       ]
      },
      {
       "output_type": "stream",
       "stream": "stdout",
       "text": [
        "['-76.3506', '', '39.9992', '91.', 'LD.MVL']\n",
        "Reading ... LD.MVL -76.3506 39.9992 75\n",
        "Found!!"
       ]
      },
      {
       "output_type": "stream",
       "stream": "stdout",
       "text": [
        "\n",
        "Dist:  55.4550427809 Other Data ['-77', '40', '385\\n'] AGE:  385.0\n"
       ]
      },
      {
       "output_type": "stream",
       "stream": "stdout",
       "text": [
        "['-73.9079', '', '41.0056', '66.', 'LD.PAL']\n",
        "Reading ... LD.PAL -73.9079 41.0056 79\n",
        "Found!!"
       ]
      },
      {
       "output_type": "stream",
       "stream": "stdout",
       "text": [
        "\n",
        "Dist:  7.77343935146 Other Data ['-74', '41', '385\\n'] AGE:  385.0\n"
       ]
      },
      {
       "output_type": "stream",
       "stream": "stdout",
       "text": [
        "['-74.9819', '', '44.5700', '197.', 'LD.PTN']\n",
        "Reading ... LD.PTN -74.9819 44.5700 69\n",
        "Found!!"
       ]
      },
      {
       "output_type": "stream",
       "stream": "stdout",
       "text": [
        "\n",
        "Dist:  63.3536259238 Other Data ['-75', '44', '385\\n'] AGE:  385.0\n"
       ]
      },
      {
       "output_type": "stream",
       "stream": "stdout",
       "text": [
        "['-76.8403', '', '39.4102', '212.', 'LD.SDMD']\n",
        "Reading ... LD.SDMD -76.8403 39.4102 105\n",
        "Found!!"
       ]
      },
      {
       "output_type": "stream",
       "stream": "stdout",
       "text": [
        "\n",
        "Dist:  47.5834386057 Other Data ['-77', '39', '385\\n'] AGE:  385.0\n"
       ]
      },
      {
       "output_type": "stream",
       "stream": "stdout",
       "text": [
        "['-119.4177', '', '46.4617', '157.', 'LI.LTH']\n",
        "Reading ... LI.LTH -119.4177 46.4617 76\n",
        "Found!!"
       ]
      },
      {
       "output_type": "stream",
       "stream": "stdout",
       "text": [
        "\n",
        "Dist:  68.2016322113 Other Data ['-120', '46', '30\\n'] AGE:  30.0\n"
       ]
      },
      {
       "output_type": "stream",
       "stream": "stdout",
       "text": [
        "['-71.6537', '', '43.4701', '131.', 'NE.FFD']\n",
        "Reading ... NE.FFD -71.6537 43.4701 \u2010\n",
        "Found!!"
       ]
      },
      {
       "output_type": "stream",
       "stream": "stdout",
       "text": [
        "\n",
        "Dist:  59.3204003863 Other Data ['-72', '43', '385\\n'] AGE:  385.0\n"
       ]
      },
      {
       "output_type": "stream",
       "stream": "stdout",
       "text": [
        "['-72.2865', '', '43.7051', '180.', 'NE.HNH']\n",
        "Reading ... NE.HNH -72.2865 43.7051 \u2010\n",
        "Found!!"
       ]
      },
      {
       "output_type": "stream",
       "stream": "stdout",
       "text": [
        "\n",
        "Dist:  66.0661431983 Other Data ['-73', '44', '385\\n'] AGE:  385.0\n"
       ]
      },
      {
       "output_type": "stream",
       "stream": "stdout",
       "text": [
        "['-68.0190', '', '46.6713', '162.', 'NE.PQI']\n",
        "Reading ... NE.PQI -68.0190 46.6713 \u2010\n",
        "Found!!"
       ]
      },
      {
       "output_type": "stream",
       "stream": "stdout",
       "text": [
        "\n",
        "Dist:  36.5695389084 Other Data ['-68', '47', '385\\n'] AGE:  385.0\n"
       ]
      },
      {
       "output_type": "stream",
       "stream": "stdout",
       "text": [
        "['-71.3218', '', '42.3848', '60.', 'NE.WES']\n",
        "Reading ... NE.WES -71.3218 42.3848 \u2010\n",
        "Found!!"
       ]
      },
      {
       "output_type": "stream",
       "stream": "stdout",
       "text": [
        "\n",
        "Dist:  50.3333959164 Other Data ['-71', '42', '385\\n'] AGE:  385.0\n"
       ]
      },
      {
       "output_type": "stream",
       "stream": "stdout",
       "text": [
        "['-69.6617', '', '44.5646', '50.', 'NE.WVL']\n",
        "Reading ... NE.WVL -69.6617 44.5646 98\n",
        "Found!!"
       ]
      },
      {
       "output_type": "stream",
       "stream": "stdout",
       "text": [
        "\n",
        "Dist:  68.302090658 Other Data ['-70', '44', '385\\n'] AGE:  385.0\n"
       ]
      },
      {
       "output_type": "stream",
       "stream": "stdout",
       "text": [
        "['-72.9365', '', '41.3150', '5.', 'NE.YLE']\n",
        "Reading ... NE.YLE -72.9365 41.3150 \u2010\n",
        "Found!!"
       ]
      },
      {
       "output_type": "stream",
       "stream": "stdout",
       "text": [
        "\n",
        "Dist:  35.3866238647 Other Data ['-73', '41', '385\\n'] AGE:  385.0\n"
       ]
      },
      {
       "output_type": "stream",
       "stream": "stdout",
       "text": [
        "['-86.5222', '', '39.1719', '246.', 'NM.BLO']\n",
        "Reading ... NM.BLO -86.5222 39.1719 111\n",
        "Found!!"
       ]
      },
      {
       "output_type": "stream",
       "stream": "stdout",
       "text": [
        "\n",
        "Dist:  45.5321724816 Other Data ['-87', '39', '1500\\n'] AGE:  1500.0\n",
        "Found!!"
       ]
      },
      {
       "output_type": "stream",
       "stream": "stdout",
       "text": [
        "\n",
        "Dist:  45.5321724816 Other Data ['-87', '39', '140', '675', '6.94035386639352', '41', '\"8central\"\\r\\n']\n",
        "LAB depth:  111.0 Temp:  1096.7762273\n"
       ]
      },
      {
       "output_type": "stream",
       "stream": "stdout",
       "text": [
        "['-90.4273', '', '37.9812', '137.', 'NM.FVM']\n",
        "Reading ... NM.FVM -90.4273 37.9812 101\n",
        "Found!!"
       ]
      },
      {
       "output_type": "stream",
       "stream": "stdout",
       "text": [
        "\n",
        "Dist:  50.3512497401 Other Data ['-91', '38', '1600\\n'] AGE:  1600.0\n",
        "Found!!"
       ]
      },
      {
       "output_type": "stream",
       "stream": "stdout",
       "text": [
        "\n",
        "Dist:  50.3512497401 Other Data ['-91', '38', '140', '675', '6.94035386639352', '41', '\"8centralS\"\\r\\n']\n",
        "LAB depth:  101.0 Temp:  1026.14906882\n"
       ]
      },
      {
       "output_type": "stream",
       "stream": "stdout",
       "text": [
        "['-89.9320', '', '35.1230', '93.', 'NM.MPH']\n",
        "Reading ... NM.MPH -89.9320 35.1230 \u2010\n",
        "Found!!"
       ]
      },
      {
       "output_type": "stream",
       "stream": "stdout",
       "text": [
        "\n",
        "Dist:  14.9895021393 Other Data ['-90', '35', '1200\\n'] AGE:  1200.0\n",
        "Not a float \u2010\n",
        "Not Found! Smallest:  13824.0885339 Other Data ['-180', '-80', '95', '862', '9.74186904479839', '32', '3\\r\\n']\n"
       ]
      },
      {
       "output_type": "stream",
       "stream": "stdout",
       "text": [
        "['-88.0755', '', '34.9824', '165.', 'NM.PLAL']\n",
        "Reading ... NM.PLAL -88.0755 34.9824 83\n",
        "Found!!"
       ]
      },
      {
       "output_type": "stream",
       "stream": "stdout",
       "text": [
        "\n",
        "Dist:  7.1642046325 Other Data ['-88', '35', '1200\\n'] AGE:  1200.0\n",
        "Found!!"
       ]
      },
      {
       "output_type": "stream",
       "stream": "stdout",
       "text": [
        "\n",
        "Dist:  7.1642046325 Other Data ['-88', '35', '134', '694', '7.17922405165403', '40', '\"8grenville\"\\r\\n']\n",
        "LAB depth:  83.0 Temp:  926.720804282\n"
       ]
      },
      {
       "output_type": "stream",
       "stream": "stdout",
       "text": [
        "['-89.2174', '', '37.7148', '120.', 'NM.SIUC']\n",
        "Reading ... NM.SIUC -89.2174 37.7148 75\n",
        "Found!!"
       ]
      },
      {
       "output_type": "stream",
       "stream": "stdout",
       "text": [
        "\n",
        "Dist:  36.9876381544 Other Data ['-89', '38', '1600\\n'] AGE:  1600.0\n",
        "Found!!"
       ]
      },
      {
       "output_type": "stream",
       "stream": "stdout",
       "text": [
        "\n",
        "Dist:  36.9876381544 Other Data ['-89', '38', '140', '677', '6.94035386639352', '41', '\"8centralS\"\\r\\n']\n",
        "LAB depth:  75.0 Temp:  846.027989857\n"
       ]
      },
      {
       "output_type": "stream",
       "stream": "stdout",
       "text": [
        "['-90.2364', '', '38.6361', '186.', 'NM.SLM']\n",
        "Reading ... NM.SLM -90.2364 38.6361 77\n",
        "Found!!"
       ]
      },
      {
       "output_type": "stream",
       "stream": "stdout",
       "text": [
        "\n",
        "Dist:  45.3150081153 Other Data ['-90', '39', '1600\\n'] AGE:  1600.0\n",
        "Found!!"
       ]
      },
      {
       "output_type": "stream",
       "stream": "stdout",
       "text": [
        "\n",
        "Dist:  45.3150081153 Other Data ['-90', '39', '140', '676', '6.9160194445985', '41', '\"8centralS\"\\r\\n']\n",
        "LAB depth:  77.0 Temp:  858.382557041\n"
       ]
      },
      {
       "output_type": "stream",
       "stream": "stdout",
       "text": [
        "['-92.3429', '', '34.7751', '138.', 'NM.UALR']\n",
        "Reading ... NM.UALR -92.3429 34.7751 104\n",
        "Found!!"
       ]
      },
      {
       "output_type": "stream",
       "stream": "stdout",
       "text": [
        "\n",
        "Dist:  65.0428689497 Other Data ['-93', '35', '1500\\n'] AGE:  1500.0\n",
        "Found!!"
       ]
      },
      {
       "output_type": "stream",
       "stream": "stdout",
       "text": [
        "\n",
        "Dist:  65.0428689497 Other Data ['-93', '35', '138', '682', '7.08960878825145', '41', '\"8central\"\\r\\n']\n",
        "LAB depth:  104.0 Temp:  1060.09817015\n"
       ]
      },
      {
       "output_type": "stream",
       "stream": "stdout",
       "text": [
        "['-88.8654', '', '36.3421', '120.', 'NM.UTMT']\n",
        "Reading ... NM.UTMT -88.8654 36.3421 76\n",
        "Found!!"
       ]
      },
      {
       "output_type": "stream",
       "stream": "stdout",
       "text": [
        "\n",
        "Dist:  39.8449389038 Other Data ['-89', '36', '1200\\n'] AGE:  1200.0\n",
        "Found!!"
       ]
      },
      {
       "output_type": "stream",
       "stream": "stdout",
       "text": [
        "\n",
        "Dist:  39.8449389038 Other Data ['-89', '36', '137', '685', '7.00497278497217', '41', '\"8grenville\"\\r\\n']\n",
        "LAB depth:  76.0 Temp:  862.945430074\n"
       ]
      },
      {
       "output_type": "stream",
       "stream": "stdout",
       "text": [
        "['-115.2608', '', '32.4210', '-23.', 'NR.NE70']\n",
        "Reading ... NR.NE70 -115.2608 32.4210 52\n",
        "Found!!"
       ]
      },
      {
       "output_type": "stream",
       "stream": "stdout",
       "text": [
        "\n",
        "Dist:  52.7637297528 Other Data ['-115', '32', '30\\n'] AGE:  30.0\n"
       ]
      },
      {
       "output_type": "stream",
       "stream": "stdout",
       "text": [
        "['-115.9053', '', '31.6897', '1155.', 'NR.NE71']\n",
        "Reading ... NR.NE71 -115.9053 31.6897 67\n",
        "Found!!"
       ]
      },
      {
       "output_type": "stream",
       "stream": "stdout",
       "text": [
        "\n",
        "Dist:  35.5557213416 Other Data ['-116', '32', '30\\n'] AGE:  30.0\n"
       ]
      },
      {
       "output_type": "stream",
       "stream": "stdout",
       "text": [
        "['-116.4553', '', '33.6092', '1280.', 'TS.PFO']\n",
        "Reading ... TS.PFO -116.4553 33.6092 77\n",
        "Found!!"
       ]
      },
      {
       "output_type": "stream",
       "stream": "stdout",
       "text": [
        "\n",
        "Dist:  66.5043192961 Other Data ['-117', '34', '30\\n'] AGE:  30.0\n"
       ]
      },
      {
       "output_type": "stream",
       "stream": "stdout",
       "text": [
        "['-120.8731', '', '43.8110', '1865.', 'UO.PIN']\n",
        "Reading ... UO.PIN -120.8731 43.8110 66\n"
       ]
      },
      {
       "output_type": "stream",
       "stream": "stdout",
       "text": [
        "['-83.6567', '', '42.3012', '172.', 'US.AAM']\n",
        "Reading ... US.AAM -83.6567 42.3012 90\n",
        "Found!!"
       ]
      },
      {
       "output_type": "stream",
       "stream": "stdout",
       "text": [
        "\n",
        "Dist:  43.8688488107 Other Data ['-84', '42', '1800\\n'] AGE:  1800.0\n",
        "Found!!"
       ]
      },
      {
       "output_type": "stream",
       "stream": "stdout",
       "text": [
        "\n",
        "Dist:  43.8688488107 Other Data ['-84', '42', '155', '635', '6.40775449658361', '44', '\"8centralN\"\\r\\n']\n",
        "LAB depth:  90.0 Temp:  886.853454221\n"
       ]
      },
      {
       "output_type": "stream",
       "stream": "stdout",
       "text": [
        "['-82.9820', '', '40.2319', '288.', 'US.ACSO']\n",
        "Reading ... US.ACSO -82.9820 40.2319 \u2010\n",
        "Found!!"
       ]
      },
      {
       "output_type": "stream",
       "stream": "stdout",
       "text": [
        "\n",
        "Dist:  25.795129873 Other Data ['-83', '40', '1200\\n'] AGE:  1200.0\n",
        "Not a float \u2010\n",
        "Not Found! Smallest:  14511.6960901 Other Data ['-180', '-80', '95', '862', '9.74186904479839', '32', '3\\r\\n']\n"
       ]
      },
      {
       "output_type": "stream",
       "stream": "stdout",
       "text": [
        "['-75.9861', '', '42.1993', '498.', 'US.BINY']\n",
        "Reading ... US.BINY -75.9861 42.1993 122\n",
        "Found!!"
       ]
      },
      {
       "output_type": "stream",
       "stream": "stdout",
       "text": [
        "\n",
        "Dist:  22.1671323795 Other Data ['-76', '42', '385\\n'] AGE:  385.0\n"
       ]
      },
      {
       "output_type": "stream",
       "stream": "stdout",
       "text": [
        "['-80.4205', '', '37.2113', '634.', 'US.BLA']\n",
        "Reading ... US.BLA -80.4205 37.2113 69\n",
        "Found!!"
       ]
      },
      {
       "output_type": "stream",
       "stream": "stdout",
       "text": [
        "\n",
        "Dist:  56.5972546651 Other Data ['-81', '37', '385\\n'] AGE:  385.0\n"
       ]
      },
      {
       "output_type": "stream",
       "stream": "stdout",
       "text": [
        "['-99.7374', '', '38.8140', '677.', 'US.CBKS']\n",
        "Reading ... US.CBKS -99.7374 38.8140 69\n",
        "Found!!"
       ]
      },
      {
       "output_type": "stream",
       "stream": "stdout",
       "text": [
        "\n",
        "Dist:  30.7439588559 Other Data ['-100', '39', '1600\\n'] AGE:  1600.0\n",
        "Found!!"
       ]
      },
      {
       "output_type": "stream",
       "stream": "stdout",
       "text": [
        "\n",
        "Dist:  30.7439588559 Other Data ['-100', '39', '137', '686', '6.95823127760289', '41', '\"8centralS\"\\r\\n']\n",
        "LAB depth:  69.0 Temp:  814.27059056\n"
       ]
      },
      {
       "output_type": "stream",
       "stream": "stdout",
       "text": [
        "['-68.1208', '', '46.9325', '250.', 'US.CBM']\n",
        "Reading ... US.CBM -68.1208 46.9325 \u2010\n",
        "Found!!"
       ]
      },
      {
       "output_type": "stream",
       "stream": "stdout",
       "text": [
        "\n",
        "Dist:  67.3296332637 Other Data ['-69', '47', '385\\n'] AGE:  385.0\n"
       ]
      },
      {
       "output_type": "stream",
       "stream": "stdout",
       "text": [
        "['-77.3732', '', '38.2046', '70.', 'US.CBN']\n",
        "Reading ... US.CBN -77.3732 38.2046 90\n",
        "Found!!"
       ]
      },
      {
       "output_type": "stream",
       "stream": "stdout",
       "text": [
        "\n",
        "Dist:  59.4826600695 Other Data ['-78', '38', '385\\n'] AGE:  385.0\n"
       ]
      },
      {
       "output_type": "stream",
       "stream": "stdout",
       "text": [
        "['-79.0928', '', '35.8908', '152.', 'US.CEH']\n",
        "Reading ... US.CEH -79.0928 35.8908 99\n",
        "Found!!"
       ]
      },
      {
       "output_type": "stream",
       "stream": "stdout",
       "text": [
        "\n",
        "Dist:  14.7281565647 Other Data ['-79', '36', '385\\n'] AGE:  385.0\n"
       ]
      },
      {
       "output_type": "stream",
       "stream": "stdout",
       "text": [
        "['-115.2388', '', '40.7448', '2210.', 'US.ELK']\n",
        "Reading ... US.ELK -115.2388 40.7448 56\n",
        "Found!!"
       ]
      },
      {
       "output_type": "stream",
       "stream": "stdout",
       "text": [
        "\n",
        "Dist:  34.7619890729 Other Data ['-115', '41', '30\\n'] AGE:  30.0\n"
       ]
      },
      {
       "output_type": "stream",
       "stream": "stdout",
       "text": [
        "['-91.4953', '', '47.9462', '475.', 'US.EYMN']\n",
        "Reading ... US.EYMN -91.4953 47.9462 94\n",
        "Found!!"
       ]
      },
      {
       "output_type": "stream",
       "stream": "stdout",
       "text": [
        "\n",
        "Dist:  38.1547734526 Other Data ['-92', '48', '2700\\n'] AGE:  2700.0\n",
        "Found!!"
       ]
      },
      {
       "output_type": "stream",
       "stream": "stdout",
       "text": [
        "\n",
        "Dist:  38.1547734526 Other Data ['-92', '48', '186', '565', '5.38796193891781', '49', '\"8superior\"\\r\\n']\n",
        "LAB depth:  94.0 Temp:  800.681325476\n"
       ]
      },
      {
       "output_type": "stream",
       "stream": "stdout",
       "text": [
        "['-83.4666', '', '33.4112', '116.', 'US.GOGA']\n",
        "Reading ... US.GOGA -83.4666 33.4112 101\n",
        "Found!!"
       ]
      },
      {
       "output_type": "stream",
       "stream": "stdout",
       "text": [
        "\n",
        "Dist:  67.4766439601 Other Data ['-84', '33', '385\\n'] AGE:  385.0\n"
       ]
      },
      {
       "output_type": "stream",
       "stream": "stdout",
       "text": [
        "['-75.6171', '', '38.8256', '19.', 'US.GWDE']\n",
        "Reading ... US.GWDE -75.6171 38.8256 \u2010\n",
        "Found!!"
       ]
      },
      {
       "output_type": "stream",
       "stream": "stdout",
       "text": [
        "\n",
        "Dist:  38.441330774 Other Data ['-76', '39', '385\\n'] AGE:  385.0\n"
       ]
      },
      {
       "output_type": "stream",
       "stream": "stdout",
       "text": [
        "['2014-03-05', '11:50:54,048', '-', 'Found', 'no', 'networks.', '', 'Make', 'sure', 'the', 'network', 'codes', 'you', 'entered', 'are', 'valid']\n",
        "Reading ... no 2014-03-05 - 62\n",
        "Can't decipher basement age at this station location\n",
        "Can't read\n"
       ]
      },
      {
       "output_type": "stream",
       "stream": "stdout",
       "text": [
        "['-105.6134', '', '39.7997', '2743.', 'US.ISCO']\n",
        "Reading ... US.ISCO -105.6134 39.7997 79\n",
        "Found!!"
       ]
      },
      {
       "output_type": "stream",
       "stream": "stdout",
       "text": [
        "\n",
        "Dist:  39.8455133982 Other Data ['-106', '40', '1800\\n'] AGE:  1800.0\n",
        "Found!!"
       ]
      },
      {
       "output_type": "stream",
       "stream": "stdout",
       "text": [
        "\n",
        "Dist:  39.8455133982 Other Data ['-106', '40', '142', '669', '6.79725378667407', '42', '\"8centralN\"\\r\\n']\n",
        "LAB depth:  79.0 Temp:  862.133473265\n"
       ]
      },
      {
       "output_type": "stream",
       "stream": "stdout",
       "text": [
        "['-99.8022', '', '30.4794', '591.', 'US.JCT']\n",
        "Reading ... US.JCT -99.8022 30.4794 94\n",
        "Found!!"
       ]
      },
      {
       "output_type": "stream",
       "stream": "stdout",
       "text": [
        "\n",
        "Dist:  56.4519823902 Other Data ['-100', '30', '1200\\n'] AGE:  1200.0\n",
        "Found!!"
       ]
      },
      {
       "output_type": "stream",
       "stream": "stdout",
       "text": [
        "\n",
        "Dist:  56.4519823902 Other Data ['-100', '30', '130', '709', '7.44483489941915', '39', '\"8grenville\"\\r\\n']\n",
        "LAB depth:  94.0 Temp:  1031.45729648\n"
       ]
      },
      {
       "output_type": "stream",
       "stream": "stdout",
       "text": [
        "['-90.2481', '', '42.9142', '335.', 'US.JFWS']\n",
        "Reading ... US.JFWS -90.2481 42.9142 59\n",
        "Found!!"
       ]
      },
      {
       "output_type": "stream",
       "stream": "stdout",
       "text": [
        "\n",
        "Dist:  62.0890625093 Other Data ['-91', '43', '1900\\n'] AGE:  1900.0\n",
        "Found!!"
       ]
      },
      {
       "output_type": "stream",
       "stream": "stdout",
       "text": [
        "\n",
        "Dist:  62.0890625093 Other Data ['-91', '43', '152', '642', '6.4570095701347', '43', '\"8churchill\"\\r\\n']\n",
        "LAB depth:  59.0 Temp:  697.745264511\n"
       ]
      },
      {
       "output_type": "stream",
       "stream": "stdout",
       "text": [
        "['-71.9259', '', '44.2401', '367.', 'US.LBNH']\n",
        "Reading ... US.LBNH -71.9259 44.2401 99\n",
        "Found!!"
       ]
      },
      {
       "output_type": "stream",
       "stream": "stdout",
       "text": [
        "\n",
        "Dist:  27.3299881896 Other Data ['-72', '44', '385\\n'] AGE:  385.0\n"
       ]
      },
      {
       "output_type": "stream",
       "stream": "stdout",
       "text": [
        "['-110.4000', '', '44.5652', '2424.', 'US.LKWY']\n",
        "Reading ... US.LKWY -110.4000 44.5652 90\n",
        "Found!!"
       ]
      },
      {
       "output_type": "stream",
       "stream": "stdout",
       "text": [
        "\n",
        "Dist:  67.7464602168 Other Data ['-111', '45', '3400\\n'] AGE:  3400.0\n",
        "Found!!"
       ]
      },
      {
       "output_type": "stream",
       "stream": "stdout",
       "text": [
        "\n",
        "Dist:  67.7464602168 Other Data ['-111', '45', '140', '675', '6.94035386639352', '41', '\"8wyoming\"\\r\\n']\n",
        "LAB depth:  90.0 Temp:  948.687712065\n"
       ]
      },
      {
       "output_type": "stream",
       "stream": "stdout",
       "text": [
        "['-86.9978', '', '33.0348', '130.', 'US.LRAL']\n",
        "Reading ... US.LRAL -86.9978 33.0348 91\n",
        "Found!!"
       ]
      },
      {
       "output_type": "stream",
       "stream": "stdout",
       "text": [
        "\n",
        "Dist:  3.86495599309 Other Data ['-87', '33', '1200\\n'] AGE:  1200.0\n",
        "Found!!"
       ]
      },
      {
       "output_type": "stream",
       "stream": "stdout",
       "text": [
        "\n",
        "Dist:  3.86495599309 Other Data ['-87', '33', '132', '702', '7.62950736410862', '40', '\"8grenville\"\\r\\n']\n",
        "LAB depth:  91.0 Temp:  1004.61644743\n"
       ]
      },
      {
       "output_type": "stream",
       "stream": "stdout",
       "text": [
        "['-73.2244', '', '41.6784', '318.', 'US.LSCT']\n",
        "Reading ... US.LSCT -73.2244 41.6784 \u2010\n",
        "Found!!"
       ]
      },
      {
       "output_type": "stream",
       "stream": "stdout",
       "text": [
        "\n",
        "Dist:  40.2904258445 Other Data ['-73', '42', '385\\n'] AGE:  385.0\n"
       ]
      },
      {
       "output_type": "stream",
       "stream": "stdout",
       "text": [
        "['-103.6669', '', '29.3339', '1013.', 'US.LTX']\n",
        "Reading ... US.LTX -103.6669 29.3339 81\n",
        "Found!!"
       ]
      },
      {
       "output_type": "stream",
       "stream": "stdout",
       "text": [
        "\n",
        "Dist:  49.1906198286 Other Data ['-104', '29', '30\\n'] AGE:  30.0\n"
       ]
      },
      {
       "output_type": "stream",
       "stream": "stdout",
       "text": [
        "['-79.8456', '', '39.6581', '280.', 'US.MCWV']\n",
        "Reading ... US.MCWV -79.8456 39.6581 91\n",
        "Found!!"
       ]
      },
      {
       "output_type": "stream",
       "stream": "stdout",
       "text": [
        "\n",
        "Dist:  40.1968732534 Other Data ['-80', '40', '1200\\n'] AGE:  1200.0\n",
        "Found!!"
       ]
      },
      {
       "output_type": "stream",
       "stream": "stdout",
       "text": [
        "\n",
        "Dist:  40.1968732534 Other Data ['-80', '40', '134', '693', '7.20078789165515', '40', '\"8grenville\"\\r\\n']\n",
        "LAB depth:  91.0 Temp:  984.604422236\n"
       ]
      },
      {
       "output_type": "stream",
       "stream": "stdout",
       "text": [
        "['-93.5765', '', '34.5454', '207.', 'US.MIAR']\n",
        "Reading ... US.MIAR -93.5765 34.5454 \u2010\n",
        "Found!!"
       ]
      },
      {
       "output_type": "stream",
       "stream": "stdout",
       "text": [
        "\n",
        "Dist:  63.6099513122 Other Data ['-94', '35', '1200\\n'] AGE:  1200.0\n",
        "Not a float \u2010\n",
        "Not Found! Smallest:  13691.5455378 Other Data ['-180', '-80', '95', '862', '9.74186904479839', '32', '3\\r\\n']\n"
       ]
      },
      {
       "output_type": "stream",
       "stream": "stdout",
       "text": [
        "['-118.1531', '', '38.4328', '1524.', 'US.MNV']\n",
        "Reading ... US.MNV -118.1531 38.4328 80\n",
        "Found!!"
       ]
      },
      {
       "output_type": "stream",
       "stream": "stdout",
       "text": [
        "\n",
        "Dist:  64.3573858652 Other Data ['-118', '39', '30\\n'] AGE:  30.0\n"
       ]
      },
      {
       "output_type": "stream",
       "stream": "stdout",
       "text": [
        "['-84.1279', '', '35.0739', '550.', 'US.MYNC']\n",
        "Reading ... US.MYNC -84.1279 35.0739 \u2010\n",
        "Found!!"
       ]
      },
      {
       "output_type": "stream",
       "stream": "stdout",
       "text": [
        "\n",
        "Dist:  14.2624332631 Other Data ['-84', '35', '385\\n'] AGE:  385.0\n"
       ]
      },
      {
       "output_type": "stream",
       "stream": "stdout",
       "text": [
        "['-74.2236', '', '43.9708', '500.', 'US.NCB']\n",
        "Reading ... US.NCB -74.2236 43.9708 109\n",
        "Found!!"
       ]
      },
      {
       "output_type": "stream",
       "stream": "stdout",
       "text": [
        "\n",
        "Dist:  62.3715674428 Other Data ['-75', '44', '385\\n'] AGE:  385.0\n"
       ]
      },
      {
       "output_type": "stream",
       "stream": "stdout",
       "text": [
        "['-80.1778', '', '33.1067', '11.', 'US.NHSC']\n",
        "Reading ... US.NHSC -80.1778 33.1067 57\n",
        "Found!!"
       ]
      },
      {
       "output_type": "stream",
       "stream": "stdout",
       "text": [
        "\n",
        "Dist:  20.3909879448 Other Data ['-80', '33', '385\\n'] AGE:  385.0\n"
       ]
      },
      {
       "output_type": "stream",
       "stream": "stdout",
       "text": [
        "['-121.4450', '', '36.7650', '350.', 'US.SAO']\n",
        "Reading ... US.SAO -121.4450 36.7650 79\n"
       ]
      },
      {
       "output_type": "stream",
       "stream": "stdout",
       "text": [
        "['-98.7807', '', '34.7379', '486.', 'US.WMOK']\n",
        "Reading ... US.WMOK -98.7807 34.7379 84\n",
        "Found!!"
       ]
      },
      {
       "output_type": "stream",
       "stream": "stdout",
       "text": [
        "\n",
        "Dist:  35.3202646653 Other Data ['-99', '35', '1200\\n'] AGE:  1200.0\n",
        "Found!!"
       ]
      },
      {
       "output_type": "stream",
       "stream": "stdout",
       "text": [
        "\n",
        "Dist:  35.3202646653 Other Data ['-99', '35', '135', '691', '7.03123296056253', '40', '\"8grenville\"\\r\\n']\n",
        "LAB depth:  84.0 Temp:  927.042918807\n"
       ]
      },
      {
       "output_type": "stream",
       "stream": "stdout",
       "text": [
        "['-122.8250', '', '47.5641', '220.', 'UW.GNW']\n",
        "Reading ... UW.GNW -122.8250 47.5641 104\n"
       ]
      },
      {
       "output_type": "stream",
       "stream": "stdout",
       "text": [
        "['-120.6664', '', '47.2545', '807.', 'UW.LTY']\n",
        "Reading ... UW.LTY -120.6664 47.2545 104\n"
       ]
      }
     ],
     "prompt_number": 1
    },
    {
     "cell_type": "code",
     "collapsed": false,
     "input": [
      "8\n",
      "#!/Library/Frameworks/Python.framework/Versions/Current/bin/python\n",
      "#\n",
      "#    @Author Tolulope Olugboji\n",
      "#    Name: Continental_LAB_Depth_Geotherm\n",
      "#\n",
      "#\n",
      "# I use this code to cross_reference my compilation of continental LAB depths with \n",
      "# Geotherm from Artimieva data or modelling results. Code does the following\n",
      "#\t\t\t\t\t\t1. Pulls lon-lat information from IRIS station\n",
      "#\t\t\t\t\t\t2. Cross references with Artimieva\n",
      "#\t\t\t\t\t\t3. Uses Artimieva to get actual temperature data...\n",
      "#\n",
      "from obspy.core.util.geodetics import gps2DistAzimuth\n",
      "from obspy import UTCDateTime\n",
      "from obspy import read\n",
      "import obspy.signal\n",
      "import time, sys, os\n",
      "from IPython.display import display, clear_output\n",
      "from obspy.taup.taup import getTravelTimes\n",
      "\n",
      "import matplotlib as mpl\n",
      "mpl.rcParams['font.size'] = 15\n",
      "\n",
      "# compute artemieva using 3 parameter fit\n",
      "def computeArtemievaParams3(Tz0, Tz1, dTz):\n",
      "    params = [0, 0, 0]\n",
      "    T0 = Tz0[0]\n",
      "    z0 = Tz0[1]\n",
      "    \n",
      "    T1 = Tz1[0]\n",
      "    z1 = Tz1[1]\n",
      "    \n",
      "    dT3 = dTz[0]\n",
      "    z3 = dTz[1]\n",
      "    \n",
      "    params[2] = ( (T1 - T0) - dT3*(z1-z0) ) / ( (z1**2 - z0**2) - (2*z0)*(z1 - z0) )\n",
      "    params[1] = dT3 - (2*z0*params[2])\n",
      "    params[0] = T0 - params[1]*z0 - params[2]*z0**2\n",
      "    \n",
      "    return params\n",
      "\n",
      "# compute artemieva using 4 parameter fit\n",
      "def computeArtemievaParams4(Tz0, Tz1, Tz3, dTz):\n",
      "    #params = [0, 0, 0, 0]\n",
      "    \n",
      "    B = np.array( [Tz0[0], Tz1[0], Tz3[0], dTz[0]] )\n",
      "    A = np.array([[1, Tz0[1], Tz0[1]**2, Tz0[1]**3], \\\n",
      "                  [1, Tz1[1], Tz1[1]**2, Tz1[1]**3], \\\n",
      "                  [1, Tz3[1], Tz3[1]**2, Tz3[1]**3], \\\n",
      "                  [0, 1, 2*dTz[1], 3*dTz[1]] ])\n",
      "    \n",
      "    params = np.linalg.solve(A,B)\n",
      "    return params\n",
      "\n",
      "def geotherm3(depthZ, params):\n",
      "    # polynomial function of power 2\n",
      "    a0 = params[0]\n",
      "    a1 = params[1]\n",
      "    a2 = params[2]\n",
      "    \n",
      "    Tz = a0 + (a1*depthZ) + (a2*depthZ**2) \n",
      "    return Tz\n",
      "\n",
      "def geotherm4(depthZ, params):\n",
      "    # polynomial function of power 2\n",
      "    a0 = params[0]\n",
      "    a1 = params[1]\n",
      "    a2 = params[2]\n",
      "    a3 = params[3]\n",
      "    \n",
      "    Tz = a0 + (a1*depthZ) + (a2*depthZ**2) + (a3*depthZ**3) \n",
      "    return Tz\n",
      "\n",
      "################ DEMO GEOTHERM FUNCTIONS ...\n",
      "#slave = [-109,63,251,483,4.39319561667898,66,\"8slave\"]\n",
      "sAfrca = [17,-27,128,716,7.58656125985798,39,\"1Namaqua-Natal\"]\n",
      "#sAfrca = [24,-29,166,616,6.35702250303918,45,\"1Kaapvaal\"]\n",
      "\n",
      "\n",
      "AUFitz = ['125', '-18', '120', '751', '7.30285296609347', '37', '\"7canning\"\\r\\n']\n",
      "AUWrab = ['134', '-20', '135', '691', '7.16606213379101', '40', '\"7n-aus\"\\r\\n']\n",
      "AUCohen = ['143', '-14', '132', '700', '7.23775384561163', '40', '\"7n-orogens\"\\r\\n']\n",
      "\n",
      "columns = AUWrab\n",
      "\n",
      "tempLon = float( columns[0] )\n",
      "tempLat = float( columns[1] )\n",
      "z1300 = float( columns[2] )\n",
      "temp50km = float ( columns[3] )\n",
      "dTdz = float ( columns[4] )\n",
      "z550 = float ( columns[5] )\n",
      "\n",
      "Tz50 = [temp50km, 50]\n",
      "Tz550 = [z550, 550]\n",
      "Tz1300 = [1300, z1300]\n",
      "dTdz50 = [dTdz, 50]\n",
      "\n",
      "LABZ = np.arange(300.)       \n",
      "params4 = computeArtemievaParams4(Tz50, Tz550, Tz1300, dTdz50)\n",
      "TLab4 = geotherm4(LABZ, params4)\n",
      "params3 = computeArtemievaParams3(Tz50, Tz1300, dTdz50)\n",
      "TLab3 = geotherm3(LABZ, params3)\n",
      "\n",
      "plot(LABZ, TLab4, 'r', linewidth=3.0, label = 'deg. 4')\n",
      "plot(LABZ, TLab3 ,'b', linewidth=3.0, label = 'deg. 3')\n",
      "plt.grid()\n",
      "plt.legend(loc='upper left', numpoints = 1)\n",
      "xlabel('Depth (km)'), ylabel('Temperature ($^\\circ$C)')\n",
      "\n",
      "testZ = 81\n",
      "print \"4 params: [\", testZ, \",\", geotherm4(testZ,params4), \"] 3 params: [\", \\\n",
      "        testZ, \",\", geotherm3(testZ,params3), \"]\"\n"
     ],
     "language": "python",
     "metadata": {},
     "outputs": [
      {
       "output_type": "stream",
       "stream": "stdout",
       "text": [
        "4 params: [ 81 , 908.554986533 ] 3 params: [ 81 , 913.132592528 ]\n"
       ]
      },
      {
       "metadata": {},
       "output_type": "display_data",
       "png": "[encoded data removed]",
       "text": [
        "<matplotlib.figure.Figure at 0x10b842c50>"
       ]
      }
     ],
     "prompt_number": 2
    },
    {
     "cell_type": "code",
     "collapsed": false,
     "input": [
      "slave = [-109,63,251,483,4.39319561667898,66,\"8slave\"]\n",
      "\n",
      "columns = slave\n",
      "\n",
      "tempLon = float( columns[0] )\n",
      "tempLat = float( columns[1] )#\n",
      "z1300 = float( columns[2] )\n",
      "temp50km = float ( columns[3] )\n",
      "dTdZ = float ( columns[4] )"
     ],
     "language": "python",
     "metadata": {},
     "outputs": [],
     "prompt_number": 5
    },
    {
     "cell_type": "code",
     "collapsed": false,
     "input": [
      "print columns"
     ],
     "language": "python",
     "metadata": {},
     "outputs": [
      {
       "output_type": "stream",
       "stream": "stdout",
       "text": [
        "[-109, 63, 251, 483, 4.39319561667898, 66, '8slave']\n"
       ]
      }
     ],
     "prompt_number": 6
    },
    {
     "cell_type": "code",
     "collapsed": false,
     "input": [],
     "language": "python",
     "metadata": {},
     "outputs": []
    }
   ],
   "metadata": {}
  }
 ]
}